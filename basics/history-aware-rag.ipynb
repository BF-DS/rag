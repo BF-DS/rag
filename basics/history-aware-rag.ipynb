{
 "cells": [
  {
   "cell_type": "markdown",
   "id": "ebbe56ca",
   "metadata": {},
   "source": [
    "# History aware retriever for chatting with documents"
   ]
  },
  {
   "cell_type": "code",
   "execution_count": null,
   "id": "9365872e",
   "metadata": {},
   "outputs": [],
   "source": [
    "import os\n",
    "from dotenv import load_dotenv\n",
    "\n",
    "# text splitters\n",
    "from langchain_text_splitters import RecursiveCharacterTextSplitter\n",
    "\n",
    "from langchain_core.prompts import ChatPromptTemplate\n",
    "from langchain.text_splitter import RecursiveCharacterTextSplitter\n",
    "from langchain_openai import ChatOpenAI\n",
    "from langchain_core.output_parsers import StrOutputParser\n",
    "\n",
    "from langchain.chains import create_history_aware_retriever\n",
    "from langchain.chains import create_retrieval_chain\n",
    "from langchain.chains.combine_documents import create_stuff_documents_chain\n",
    "from langchain_core.prompts import MessagesPlaceholder\n",
    "from langchain_chroma import Chroma # ChromaDB vector store"
   ]
  },
  {
   "cell_type": "code",
   "execution_count": 3,
   "id": "4d48fc26",
   "metadata": {},
   "outputs": [],
   "source": [
    "# Loading api keys\n",
    "load_dotenv()\n",
    "openai_api_key = os.getenv(\"OPENAI_API_KEY\")\n",
    "# google_api_key = os.getenv(\"GOOGLE_API_KEY\")"
   ]
  },
  {
   "cell_type": "markdown",
   "id": "991f9486",
   "metadata": {},
   "source": [
    "# Splitting into chunks"
   ]
  },
  {
   "cell_type": "code",
   "execution_count": 4,
   "id": "ec38b81a",
   "metadata": {},
   "outputs": [],
   "source": [
    "splitter = RecursiveCharacterTextSplitter(\n",
    "    separators=[\"\\n\\n\", \"\\n\", \" \", \"\"],\n",
    "    chunk_size=1000, # for production, use 1000 or more\n",
    "    chunk_overlap=50, # for production, use 50 or more\n",
    ")"
   ]
  },
  {
   "cell_type": "markdown",
   "id": "e84102ea",
   "metadata": {},
   "source": [
    "# Embedding the chunks"
   ]
  },
  {
   "cell_type": "code",
   "execution_count": 5,
   "id": "c015cb98",
   "metadata": {},
   "outputs": [],
   "source": [
    "from langchain_openai import OpenAIEmbeddings\n",
    "\n",
    "embedding_model = OpenAIEmbeddings(\n",
    "    model=\"text-embedding-3-small\",  # Use a smaller model for faster processing\n",
    "    openai_api_key=openai_api_key,\n",
    ")"
   ]
  },
  {
   "cell_type": "markdown",
   "id": "4919af5b",
   "metadata": {},
   "source": [
    "## accessing/querying the vector database\n",
    "Once your vector store has been created and the relevant documents have been added you will most likely wish to query it during the running of your chain or agent."
   ]
  },
  {
   "cell_type": "code",
   "execution_count": 6,
   "id": "7c612adb",
   "metadata": {},
   "outputs": [],
   "source": [
    "persist_dir = \"./vector_store\"  # Directory to save the vector store"
   ]
  },
  {
   "cell_type": "code",
   "execution_count": 7,
   "id": "088e6fb3",
   "metadata": {},
   "outputs": [],
   "source": [
    "vector_store_pers = Chroma(\n",
    "    collection_name=\"book-rag\",  # Name of the collection in the vector store\n",
    "    embedding_function=embedding_model,\n",
    "    persist_directory=persist_dir,  # Directory to save the vector store\n",
    ")"
   ]
  },
  {
   "cell_type": "markdown",
   "id": "43d76503",
   "metadata": {},
   "source": [
    "# LLM"
   ]
  },
  {
   "cell_type": "code",
   "execution_count": 10,
   "id": "9fcf2ada",
   "metadata": {},
   "outputs": [],
   "source": [
    "llm = ChatOpenAI(\n",
    "    model=\"gpt-4o-mini\",\n",
    "    temperature=0.0,  # Set temperature to 0 for deterministic output\n",
    "    openai_api_key=openai_api_key,\n",
    ")"
   ]
  },
  {
   "cell_type": "markdown",
   "id": "c75c7a6a",
   "metadata": {},
   "source": [
    "# Instantiating a retriever"
   ]
  },
  {
   "cell_type": "code",
   "execution_count": 8,
   "id": "bbc6968e",
   "metadata": {},
   "outputs": [],
   "source": [
    "retriever = vector_store_pers.as_retriever(\n",
    "    search_type=\"similarity\",\n",
    "    search_kwargs={\"k\": 2}  # Retrieve the top 2 most similar documents\n",
    ")"
   ]
  },
  {
   "cell_type": "markdown",
   "id": "7b22cd47",
   "metadata": {},
   "source": [
    "# RAG-Chain"
   ]
  },
  {
   "cell_type": "code",
   "execution_count": null,
   "id": "a462df7b",
   "metadata": {},
   "outputs": [],
   "source": [
    "# Create a prompt for contextualizing questions based on chat history\n",
    "contextualize_q_system_prompt = \"\"\"Given a chat history and the latest user question \\\n",
    "which might reference context in the chat history, formulate a standalone question \\\n",
    "which can be understood without the chat history. Do NOT answer the question, \\\n",
    "just reformulate it if needed and otherwise return it as is.\"\"\"\n",
    "\n",
    "contextualize_q_prompt = ChatPromptTemplate.from_messages([\n",
    "    (\"system\", contextualize_q_system_prompt),\n",
    "    MessagesPlaceholder(\"chat_history\"),\n",
    "    (\"human\", \"{input}\"),\n",
    "])\n",
    "\n",
    "# Create history-aware retriever\n",
    "history_aware_retriever = create_history_aware_retriever(\n",
    "    llm, retriever, contextualize_q_prompt\n",
    ")\n",
    "\n",
    "# Create the main RAG prompt that includes chat history\n",
    "qa_system_prompt = \"\"\"You are an assistant for question-answering tasks. \\\n",
    "Use the following pieces of retrieved context to answer the question. \\\n",
    "If you don't know the answer, just say that you don't know. \\\n",
    "Use three sentences maximum and keep the answer concise.\n",
    "\n",
    "Context: {context}\"\"\"\n",
    "\n",
    "qa_prompt = ChatPromptTemplate.from_messages([\n",
    "    (\"system\", qa_system_prompt),\n",
    "    MessagesPlaceholder(\"chat_history\"),\n",
    "    (\"human\", \"{input}\"),\n",
    "])\n",
    "\n",
    "question_answer_chain = create_stuff_documents_chain(llm, qa_prompt) # qa_prompt | llm\n",
    "\n",
    "# Create the question-answer chain\n",
    "rag_chain = create_retrieval_chain(history_aware_retriever, question_answer_chain)"
   ]
  },
  {
   "cell_type": "code",
   "execution_count": 12,
   "id": "b04b0ec1",
   "metadata": {},
   "outputs": [
    {
     "data": {
      "text/plain": [
       "RunnableBinding(bound=RunnableAssign(mapper={\n",
       "  context: RunnableBinding(bound=RunnableBranch(branches=[(RunnableLambda(lambda x: not x.get('chat_history', False)), RunnableLambda(lambda x: x['input'])\n",
       "           | VectorStoreRetriever(tags=['Chroma', 'OpenAIEmbeddings'], vectorstore=<langchain_chroma.vectorstores.Chroma object at 0x000001CA4EABEBA0>, search_kwargs={'k': 2}))], default=ChatPromptTemplate(input_variables=['chat_history', 'input'], input_types={'chat_history': list[typing.Annotated[typing.Union[typing.Annotated[langchain_core.messages.ai.AIMessage, Tag(tag='ai')], typing.Annotated[langchain_core.messages.human.HumanMessage, Tag(tag='human')], typing.Annotated[langchain_core.messages.chat.ChatMessage, Tag(tag='chat')], typing.Annotated[langchain_core.messages.system.SystemMessage, Tag(tag='system')], typing.Annotated[langchain_core.messages.function.FunctionMessage, Tag(tag='function')], typing.Annotated[langchain_core.messages.tool.ToolMessage, Tag(tag='tool')], typing.Annotated[langchain_core.messages.ai.AIMessageChunk, Tag(tag='AIMessageChunk')], typing.Annotated[langchain_core.messages.human.HumanMessageChunk, Tag(tag='HumanMessageChunk')], typing.Annotated[langchain_core.messages.chat.ChatMessageChunk, Tag(tag='ChatMessageChunk')], typing.Annotated[langchain_core.messages.system.SystemMessageChunk, Tag(tag='SystemMessageChunk')], typing.Annotated[langchain_core.messages.function.FunctionMessageChunk, Tag(tag='FunctionMessageChunk')], typing.Annotated[langchain_core.messages.tool.ToolMessageChunk, Tag(tag='ToolMessageChunk')]], FieldInfo(annotation=NoneType, required=True, discriminator=Discriminator(discriminator=<function _get_type at 0x000001CA3CBD1940>, custom_error_type=None, custom_error_message=None, custom_error_context=None))]]}, partial_variables={}, messages=[SystemMessagePromptTemplate(prompt=PromptTemplate(input_variables=[], input_types={}, partial_variables={}, template='Given a chat history and the latest user question which might reference context in the chat history, formulate a standalone question which can be understood without the chat history. Do NOT answer the question, just reformulate it if needed and otherwise return it as is.'), additional_kwargs={}), MessagesPlaceholder(variable_name='chat_history'), HumanMessagePromptTemplate(prompt=PromptTemplate(input_variables=['input'], input_types={}, partial_variables={}, template='{input}'), additional_kwargs={})])\n",
       "           | ChatOpenAI(client=<openai.resources.chat.completions.completions.Completions object at 0x000001CA4EE9DE80>, async_client=<openai.resources.chat.completions.completions.AsyncCompletions object at 0x000001CA4EE9E3C0>, root_client=<openai.OpenAI object at 0x000001CA4EEB1950>, root_async_client=<openai.AsyncOpenAI object at 0x000001CA4EEB1F90>, model_name='gpt-4o-mini', temperature=0.0, model_kwargs={}, openai_api_key=SecretStr('**********'))\n",
       "           | StrOutputParser()\n",
       "           | VectorStoreRetriever(tags=['Chroma', 'OpenAIEmbeddings'], vectorstore=<langchain_chroma.vectorstores.Chroma object at 0x000001CA4EABEBA0>, search_kwargs={'k': 2})), kwargs={}, config={'run_name': 'retrieve_documents'}, config_factories=[])\n",
       "})\n",
       "| RunnableAssign(mapper={\n",
       "    answer: RunnableBinding(bound=RunnableBinding(bound=RunnableAssign(mapper={\n",
       "              context: RunnableLambda(format_docs)\n",
       "            }), kwargs={}, config={'run_name': 'format_inputs'}, config_factories=[])\n",
       "            | ChatPromptTemplate(input_variables=['chat_history', 'context', 'input'], input_types={'chat_history': list[typing.Annotated[typing.Union[typing.Annotated[langchain_core.messages.ai.AIMessage, Tag(tag='ai')], typing.Annotated[langchain_core.messages.human.HumanMessage, Tag(tag='human')], typing.Annotated[langchain_core.messages.chat.ChatMessage, Tag(tag='chat')], typing.Annotated[langchain_core.messages.system.SystemMessage, Tag(tag='system')], typing.Annotated[langchain_core.messages.function.FunctionMessage, Tag(tag='function')], typing.Annotated[langchain_core.messages.tool.ToolMessage, Tag(tag='tool')], typing.Annotated[langchain_core.messages.ai.AIMessageChunk, Tag(tag='AIMessageChunk')], typing.Annotated[langchain_core.messages.human.HumanMessageChunk, Tag(tag='HumanMessageChunk')], typing.Annotated[langchain_core.messages.chat.ChatMessageChunk, Tag(tag='ChatMessageChunk')], typing.Annotated[langchain_core.messages.system.SystemMessageChunk, Tag(tag='SystemMessageChunk')], typing.Annotated[langchain_core.messages.function.FunctionMessageChunk, Tag(tag='FunctionMessageChunk')], typing.Annotated[langchain_core.messages.tool.ToolMessageChunk, Tag(tag='ToolMessageChunk')]], FieldInfo(annotation=NoneType, required=True, discriminator=Discriminator(discriminator=<function _get_type at 0x000001CA3CBD1940>, custom_error_type=None, custom_error_message=None, custom_error_context=None))]]}, partial_variables={}, messages=[SystemMessagePromptTemplate(prompt=PromptTemplate(input_variables=['context'], input_types={}, partial_variables={}, template=\"You are an assistant for question-answering tasks. Use the following pieces of retrieved context to answer the question. If you don't know the answer, just say that you don't know. Use three sentences maximum and keep the answer concise.\\n\\nContext: {context}\"), additional_kwargs={}), MessagesPlaceholder(variable_name='chat_history'), HumanMessagePromptTemplate(prompt=PromptTemplate(input_variables=['input'], input_types={}, partial_variables={}, template='{input}'), additional_kwargs={})])\n",
       "            | ChatOpenAI(client=<openai.resources.chat.completions.completions.Completions object at 0x000001CA4EE9DE80>, async_client=<openai.resources.chat.completions.completions.AsyncCompletions object at 0x000001CA4EE9E3C0>, root_client=<openai.OpenAI object at 0x000001CA4EEB1950>, root_async_client=<openai.AsyncOpenAI object at 0x000001CA4EEB1F90>, model_name='gpt-4o-mini', temperature=0.0, model_kwargs={}, openai_api_key=SecretStr('**********'))\n",
       "            | StrOutputParser(), kwargs={}, config={'run_name': 'stuff_documents_chain'}, config_factories=[])\n",
       "  }), kwargs={}, config={'run_name': 'retrieval_chain'}, config_factories=[])"
      ]
     },
     "execution_count": 12,
     "metadata": {},
     "output_type": "execute_result"
    }
   ],
   "source": [
    "rag_chain"
   ]
  },
  {
   "cell_type": "markdown",
   "id": "dac1e7bf",
   "metadata": {},
   "source": [
    "# using the RAG system"
   ]
  },
  {
   "cell_type": "code",
   "execution_count": 13,
   "id": "57e58aef",
   "metadata": {},
   "outputs": [
    {
     "name": "stdout",
     "output_type": "stream",
     "text": [
      "Large Language Models (LLMs) sind KI-Modelle, die darauf trainiert sind, Sprache zu verstehen und zu generieren. Sie können in drei Hauptkategorien unterteilt werden: autoregressive Modelle wie GPT, reine Encoder-Modelle wie BERT und reine Decoder-Modelle. LLMs werden mit großen Textkorpora vortrainiert, um die Beziehungen zwischen Wörtern und die allgemeine Sprache zu lernen.\n"
     ]
    }
   ],
   "source": [
    "from langchain_core.messages import HumanMessage\n",
    "\n",
    "chat_history = []\n",
    "\n",
    "question1 = \"Was sind Large Language Models?\"\n",
    "ai_msg_1 = rag_chain.invoke({\"input\": question1, \"chat_history\": chat_history})\n",
    "chat_history.extend([HumanMessage(content=question1), ai_msg_1[\"answer\"]])\n",
    "print(ai_msg_1[\"answer\"])"
   ]
  },
  {
   "cell_type": "code",
   "execution_count": null,
   "id": "6db7786d",
   "metadata": {},
   "outputs": [
    {
     "data": {
      "text/plain": [
       "[HumanMessage(content='Was sind Large Language Models?', additional_kwargs={}, response_metadata={}),\n",
       " 'Large Language Models (LLMs) sind KI-Modelle, die darauf trainiert sind, Sprache zu verstehen und zu generieren. Sie können in drei Hauptkategorien unterteilt werden: autoregressive Modelle wie GPT, reine Encoder-Modelle wie BERT und reine Decoder-Modelle. LLMs werden mit großen Textkorpora vortrainiert, um die Beziehungen zwischen Wörtern und die allgemeine Sprache zu lernen.']"
      ]
     },
     "execution_count": 14,
     "metadata": {},
     "output_type": "execute_result"
    }
   ],
   "source": [
    "# chat history after first question\n",
    "chat_history"
   ]
  },
  {
   "cell_type": "code",
   "execution_count": 15,
   "id": "01dfad67",
   "metadata": {},
   "outputs": [
    {
     "name": "stdout",
     "output_type": "stream",
     "text": [
      "Large Language Models (LLMs) funktionieren durch ein Vortraining auf großen Textkorpora, bei dem sie die allgemeine Sprache und die Beziehungen zwischen Wörtern lernen. Sie nutzen unterschiedliche Architekturen, wie autoregressive Modelle, die das nächste Token basierend auf vorherigen Tokens vorhersagen, oder Encoder-Modelle, die für das Verständnis von Sprache optimiert sind. Nach dem Vortraining können sie für spezifische Aufgaben feingetunt werden, um ihre Leistung zu verbessern.\n"
     ]
    }
   ],
   "source": [
    "question2 = \"Wie funktionieren sie?\"\n",
    "ai_msg_2 = rag_chain.invoke({\"input\": question2, \"chat_history\": chat_history})\n",
    "chat_history.extend([HumanMessage(content=question2), ai_msg_2[\"answer\"]])\n",
    "print(ai_msg_2[\"answer\"])"
   ]
  },
  {
   "cell_type": "code",
   "execution_count": 16,
   "id": "fccbc1ce",
   "metadata": {},
   "outputs": [
    {
     "data": {
      "text/plain": [
       "[HumanMessage(content='Was sind Large Language Models?', additional_kwargs={}, response_metadata={}),\n",
       " 'Large Language Models (LLMs) sind KI-Modelle, die darauf trainiert sind, Sprache zu verstehen und zu generieren. Sie können in drei Hauptkategorien unterteilt werden: autoregressive Modelle wie GPT, reine Encoder-Modelle wie BERT und reine Decoder-Modelle. LLMs werden mit großen Textkorpora vortrainiert, um die Beziehungen zwischen Wörtern und die allgemeine Sprache zu lernen.',\n",
       " HumanMessage(content='Wie funktionieren sie?', additional_kwargs={}, response_metadata={}),\n",
       " 'Large Language Models (LLMs) funktionieren durch ein Vortraining auf großen Textkorpora, bei dem sie die allgemeine Sprache und die Beziehungen zwischen Wörtern lernen. Sie nutzen unterschiedliche Architekturen, wie autoregressive Modelle, die das nächste Token basierend auf vorherigen Tokens vorhersagen, oder Encoder-Modelle, die für das Verständnis von Sprache optimiert sind. Nach dem Vortraining können sie für spezifische Aufgaben feingetunt werden, um ihre Leistung zu verbessern.']"
      ]
     },
     "execution_count": 16,
     "metadata": {},
     "output_type": "execute_result"
    }
   ],
   "source": [
    "# chat history after second question\n",
    "chat_history"
   ]
  },
  {
   "attachments": {
    "0_ORXPy-wGkcJN-3at.webp": {
     "image/webp": "[encoded data removed]"
    }
   },
   "cell_type": "markdown",
   "id": "075bd8d7",
   "metadata": {},
   "source": [
    "![0_ORXPy-wGkcJN-3at.webp](attachment:0_ORXPy-wGkcJN-3at.webp)\n",
    "\n",
    "source: LangChain"
   ]
  }
 ],
 "metadata": {
  "kernelspec": {
   "display_name": "rag",
   "language": "python",
   "name": "python3"
  },
  "language_info": {
   "codemirror_mode": {
    "name": "ipython",
    "version": 3
   },
   "file_extension": ".py",
   "mimetype": "text/x-python",
   "name": "python",
   "nbconvert_exporter": "python",
   "pygments_lexer": "ipython3",
   "version": "3.13.2"
  }
 },
 "nbformat": 4,
 "nbformat_minor": 5
}
