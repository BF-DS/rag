{
 "cells": [
  {
   "cell_type": "markdown",
   "id": "ebbe56ca",
   "metadata": {},
   "source": [
    "By default, data sent to the OpenAI API will not be used to train or improve OpenAI models.\n",
    "\n",
    "Quelle: https://openai.com/index/new-embedding-models-and-api-updates/"
   ]
  },
  {
   "cell_type": "code",
   "execution_count": 2,
   "id": "9365872e",
   "metadata": {},
   "outputs": [],
   "source": [
    "import os\n",
    "from dotenv import load_dotenv\n",
    "from openai import OpenAI\n",
    "\n",
    "# text splitters\n",
    "from langchain_text_splitters import RecursiveCharacterTextSplitter\n",
    "\n",
    "from langchain_core.prompts import ChatPromptTemplate\n",
    "from langchain.text_splitter import RecursiveCharacterTextSplitter\n",
    "from langchain_openai import ChatOpenAI\n",
    "from langchain_core.output_parsers import StrOutputParser\n",
    "\n",
    "from langchain_chroma import Chroma # ChromaDB vector store\n",
    "\n",
    "import streamlit as st\n",
    "\n",
    "# eigene Funktionen\n",
    "from src.llmlib import list_files, load_document"
   ]
  },
  {
   "cell_type": "code",
   "execution_count": 3,
   "id": "4d48fc26",
   "metadata": {},
   "outputs": [],
   "source": [
    "# Loading api keys\n",
    "load_dotenv()\n",
    "openai_api_key = os.getenv(\"OPENAI_API_KEY\")\n",
    "# google_api_key = os.getenv(\"GOOGLE_API_KEY\")"
   ]
  },
  {
   "cell_type": "markdown",
   "id": "991f9486",
   "metadata": {},
   "source": [
    "# Splitting into chunks"
   ]
  },
  {
   "cell_type": "code",
   "execution_count": 4,
   "id": "ec38b81a",
   "metadata": {},
   "outputs": [],
   "source": [
    "splitter = RecursiveCharacterTextSplitter(\n",
    "    separators=[\"\\n\\n\", \"\\n\", \" \", \"\"],\n",
    "    chunk_size=1000, # for production, use 1000 or more\n",
    "    chunk_overlap=50, # for production, use 50 or more\n",
    ")"
   ]
  },
  {
   "cell_type": "markdown",
   "id": "e84102ea",
   "metadata": {},
   "source": [
    "# Embedding the chunks\n",
    "Angabe zu Kosten der Embeddings von OpenAI:\n",
    "https://openai.com/index/new-embedding-models-and-api-updates/\n",
    "- text-embedding-3-small will be priced at $0.00002 / 1k tokens.\n",
    "- text-embedding-3-large will be priced at $0.00013 / 1k tokens."
   ]
  },
  {
   "cell_type": "code",
   "execution_count": 5,
   "id": "c015cb98",
   "metadata": {},
   "outputs": [],
   "source": [
    "from langchain_openai import OpenAIEmbeddings\n",
    "\n",
    "embedding_model = OpenAIEmbeddings(\n",
    "    model=\"text-embedding-3-small\",  # Use a smaller model for faster processing\n",
    "    openai_api_key=openai_api_key,\n",
    ")"
   ]
  },
  {
   "cell_type": "markdown",
   "id": "4919af5b",
   "metadata": {},
   "source": [
    "## accessing/querying the vector database\n",
    "Once your vector store has been created and the relevant documents have been added you will most likely wish to query it during the running of your chain or agent."
   ]
  },
  {
   "cell_type": "code",
   "execution_count": 6,
   "id": "7c612adb",
   "metadata": {},
   "outputs": [],
   "source": [
    "persist_dir = \"./vector_store\"  # Directory to save the vector store"
   ]
  },
  {
   "cell_type": "code",
   "execution_count": 7,
   "id": "088e6fb3",
   "metadata": {},
   "outputs": [],
   "source": [
    "vector_store_pers = Chroma(\n",
    "    collection_name=\"book-rag\",  # Name of the collection in the vector store\n",
    "    embedding_function=embedding_model,\n",
    "    persist_directory=persist_dir,  # Directory to save the vector store\n",
    ")"
   ]
  },
  {
   "cell_type": "markdown",
   "id": "43d76503",
   "metadata": {},
   "source": [
    "# LLM"
   ]
  },
  {
   "cell_type": "code",
   "execution_count": 10,
   "id": "9fcf2ada",
   "metadata": {},
   "outputs": [],
   "source": [
    "llm = ChatOpenAI(\n",
    "    model=\"gpt-4o-mini\",\n",
    "    temperature=0.0,  # Set temperature to 0 for deterministic output\n",
    "    openai_api_key=openai_api_key,\n",
    ")"
   ]
  },
  {
   "cell_type": "markdown",
   "id": "c75c7a6a",
   "metadata": {},
   "source": [
    "# Instantiating a retriever"
   ]
  },
  {
   "cell_type": "code",
   "execution_count": 8,
   "id": "bbc6968e",
   "metadata": {},
   "outputs": [],
   "source": [
    "retriever = vector_store_pers.as_retriever(\n",
    "    search_type=\"similarity\",\n",
    "    search_kwargs={\"k\": 2}  # Retrieve the top 2 most similar documents\n",
    ")"
   ]
  },
  {
   "cell_type": "markdown",
   "id": "7b22cd47",
   "metadata": {},
   "source": [
    "# RAG-System"
   ]
  },
  {
   "cell_type": "code",
   "execution_count": 11,
   "id": "a462df7b",
   "metadata": {},
   "outputs": [],
   "source": [
    "from langchain.chains import create_history_aware_retriever\n",
    "from langchain_core.prompts import MessagesPlaceholder\n",
    "from langchain.chains import create_retrieval_chain\n",
    "from langchain.chains.combine_documents import create_stuff_documents_chain\n",
    "\n",
    "# Create a prompt for contextualizing questions based on chat history\n",
    "contextualize_q_system_prompt = \"\"\"Given a chat history and the latest user question \\\n",
    "which might reference context in the chat history, formulate a standalone question \\\n",
    "which can be understood without the chat history. Do NOT answer the question, \\\n",
    "just reformulate it if needed and otherwise return it as is.\"\"\"\n",
    "\n",
    "contextualize_q_prompt = ChatPromptTemplate.from_messages([\n",
    "    (\"system\", contextualize_q_system_prompt),\n",
    "    MessagesPlaceholder(\"chat_history\"),\n",
    "    (\"human\", \"{input}\"),\n",
    "])\n",
    "\n",
    "# Create history-aware retriever\n",
    "history_aware_retriever = create_history_aware_retriever(\n",
    "    llm, retriever, contextualize_q_prompt\n",
    ")\n",
    "\n",
    "# Create the main RAG prompt that includes chat history\n",
    "qa_system_prompt = \"\"\"You are an assistant for question-answering tasks. \\\n",
    "Use the following pieces of retrieved context to answer the question. \\\n",
    "If you don't know the answer, just say that you don't know. \\\n",
    "Use three sentences maximum and keep the answer concise.\n",
    "\n",
    "Context: {context}\"\"\"\n",
    "\n",
    "qa_prompt = ChatPromptTemplate.from_messages([\n",
    "    (\"system\", qa_system_prompt),\n",
    "    MessagesPlaceholder(\"chat_history\"),\n",
    "    (\"human\", \"{input}\"),\n",
    "])\n",
    "\n",
    "question_answer_chain = create_stuff_documents_chain(llm, qa_prompt) # qa_prompt | llm\n",
    "\n",
    "# Create the question-answer chain\n",
    "rag_chain = create_retrieval_chain(history_aware_retriever, question_answer_chain)"
   ]
  },
  {
   "attachments": {
    "0_ORXPy-wGkcJN-3at.webp": {
     "image/webp": "[encoded data removed]"
    }
   },
   "cell_type": "markdown",
   "id": "0700521c",
   "metadata": {},
   "source": [
    "![0_ORXPy-wGkcJN-3at.webp](attachment:0_ORXPy-wGkcJN-3at.webp)\n",
    "\n",
    "source: LangChain"
   ]
  },
  {
   "cell_type": "code",
   "execution_count": 12,
   "id": "b04b0ec1",
   "metadata": {},
   "outputs": [
    {
     "data": {
      "text/plain": [
       "RunnableBinding(bound=RunnableAssign(mapper={\n",
       "  context: RunnableBinding(bound=RunnableBranch(branches=[(RunnableLambda(lambda x: not x.get('chat_history', False)), RunnableLambda(lambda x: x['input'])\n",
       "           | VectorStoreRetriever(tags=['Chroma', 'OpenAIEmbeddings'], vectorstore=<langchain_chroma.vectorstores.Chroma object at 0x000001CA4EABEBA0>, search_kwargs={'k': 2}))], default=ChatPromptTemplate(input_variables=['chat_history', 'input'], input_types={'chat_history': list[typing.Annotated[typing.Union[typing.Annotated[langchain_core.messages.ai.AIMessage, Tag(tag='ai')], typing.Annotated[langchain_core.messages.human.HumanMessage, Tag(tag='human')], typing.Annotated[langchain_core.messages.chat.ChatMessage, Tag(tag='chat')], typing.Annotated[langchain_core.messages.system.SystemMessage, Tag(tag='system')], typing.Annotated[langchain_core.messages.function.FunctionMessage, Tag(tag='function')], typing.Annotated[langchain_core.messages.tool.ToolMessage, Tag(tag='tool')], typing.Annotated[langchain_core.messages.ai.AIMessageChunk, Tag(tag='AIMessageChunk')], typing.Annotated[langchain_core.messages.human.HumanMessageChunk, Tag(tag='HumanMessageChunk')], typing.Annotated[langchain_core.messages.chat.ChatMessageChunk, Tag(tag='ChatMessageChunk')], typing.Annotated[langchain_core.messages.system.SystemMessageChunk, Tag(tag='SystemMessageChunk')], typing.Annotated[langchain_core.messages.function.FunctionMessageChunk, Tag(tag='FunctionMessageChunk')], typing.Annotated[langchain_core.messages.tool.ToolMessageChunk, Tag(tag='ToolMessageChunk')]], FieldInfo(annotation=NoneType, required=True, discriminator=Discriminator(discriminator=<function _get_type at 0x000001CA3CBD1940>, custom_error_type=None, custom_error_message=None, custom_error_context=None))]]}, partial_variables={}, messages=[SystemMessagePromptTemplate(prompt=PromptTemplate(input_variables=[], input_types={}, partial_variables={}, template='Given a chat history and the latest user question which might reference context in the chat history, formulate a standalone question which can be understood without the chat history. Do NOT answer the question, just reformulate it if needed and otherwise return it as is.'), additional_kwargs={}), MessagesPlaceholder(variable_name='chat_history'), HumanMessagePromptTemplate(prompt=PromptTemplate(input_variables=['input'], input_types={}, partial_variables={}, template='{input}'), additional_kwargs={})])\n",
       "           | ChatOpenAI(client=<openai.resources.chat.completions.completions.Completions object at 0x000001CA4EE9DE80>, async_client=<openai.resources.chat.completions.completions.AsyncCompletions object at 0x000001CA4EE9E3C0>, root_client=<openai.OpenAI object at 0x000001CA4EEB1950>, root_async_client=<openai.AsyncOpenAI object at 0x000001CA4EEB1F90>, model_name='gpt-4o-mini', temperature=0.0, model_kwargs={}, openai_api_key=SecretStr('**********'))\n",
       "           | StrOutputParser()\n",
       "           | VectorStoreRetriever(tags=['Chroma', 'OpenAIEmbeddings'], vectorstore=<langchain_chroma.vectorstores.Chroma object at 0x000001CA4EABEBA0>, search_kwargs={'k': 2})), kwargs={}, config={'run_name': 'retrieve_documents'}, config_factories=[])\n",
       "})\n",
       "| RunnableAssign(mapper={\n",
       "    answer: RunnableBinding(bound=RunnableBinding(bound=RunnableAssign(mapper={\n",
       "              context: RunnableLambda(format_docs)\n",
       "            }), kwargs={}, config={'run_name': 'format_inputs'}, config_factories=[])\n",
       "            | ChatPromptTemplate(input_variables=['chat_history', 'context', 'input'], input_types={'chat_history': list[typing.Annotated[typing.Union[typing.Annotated[langchain_core.messages.ai.AIMessage, Tag(tag='ai')], typing.Annotated[langchain_core.messages.human.HumanMessage, Tag(tag='human')], typing.Annotated[langchain_core.messages.chat.ChatMessage, Tag(tag='chat')], typing.Annotated[langchain_core.messages.system.SystemMessage, Tag(tag='system')], typing.Annotated[langchain_core.messages.function.FunctionMessage, Tag(tag='function')], typing.Annotated[langchain_core.messages.tool.ToolMessage, Tag(tag='tool')], typing.Annotated[langchain_core.messages.ai.AIMessageChunk, Tag(tag='AIMessageChunk')], typing.Annotated[langchain_core.messages.human.HumanMessageChunk, Tag(tag='HumanMessageChunk')], typing.Annotated[langchain_core.messages.chat.ChatMessageChunk, Tag(tag='ChatMessageChunk')], typing.Annotated[langchain_core.messages.system.SystemMessageChunk, Tag(tag='SystemMessageChunk')], typing.Annotated[langchain_core.messages.function.FunctionMessageChunk, Tag(tag='FunctionMessageChunk')], typing.Annotated[langchain_core.messages.tool.ToolMessageChunk, Tag(tag='ToolMessageChunk')]], FieldInfo(annotation=NoneType, required=True, discriminator=Discriminator(discriminator=<function _get_type at 0x000001CA3CBD1940>, custom_error_type=None, custom_error_message=None, custom_error_context=None))]]}, partial_variables={}, messages=[SystemMessagePromptTemplate(prompt=PromptTemplate(input_variables=['context'], input_types={}, partial_variables={}, template=\"You are an assistant for question-answering tasks. Use the following pieces of retrieved context to answer the question. If you don't know the answer, just say that you don't know. Use three sentences maximum and keep the answer concise.\\n\\nContext: {context}\"), additional_kwargs={}), MessagesPlaceholder(variable_name='chat_history'), HumanMessagePromptTemplate(prompt=PromptTemplate(input_variables=['input'], input_types={}, partial_variables={}, template='{input}'), additional_kwargs={})])\n",
       "            | ChatOpenAI(client=<openai.resources.chat.completions.completions.Completions object at 0x000001CA4EE9DE80>, async_client=<openai.resources.chat.completions.completions.AsyncCompletions object at 0x000001CA4EE9E3C0>, root_client=<openai.OpenAI object at 0x000001CA4EEB1950>, root_async_client=<openai.AsyncOpenAI object at 0x000001CA4EEB1F90>, model_name='gpt-4o-mini', temperature=0.0, model_kwargs={}, openai_api_key=SecretStr('**********'))\n",
       "            | StrOutputParser(), kwargs={}, config={'run_name': 'stuff_documents_chain'}, config_factories=[])\n",
       "  }), kwargs={}, config={'run_name': 'retrieval_chain'}, config_factories=[])"
      ]
     },
     "execution_count": 12,
     "metadata": {},
     "output_type": "execute_result"
    }
   ],
   "source": [
    "rag_chain"
   ]
  },
  {
   "cell_type": "markdown",
   "id": "dac1e7bf",
   "metadata": {},
   "source": [
    "# using the RAG system"
   ]
  },
  {
   "cell_type": "code",
   "execution_count": 13,
   "id": "57e58aef",
   "metadata": {},
   "outputs": [
    {
     "name": "stdout",
     "output_type": "stream",
     "text": [
      "Large Language Models (LLMs) sind KI-Modelle, die darauf trainiert sind, Sprache zu verstehen und zu generieren. Sie können in drei Hauptkategorien unterteilt werden: autoregressive Modelle wie GPT, reine Encoder-Modelle wie BERT und reine Decoder-Modelle. LLMs werden mit großen Textkorpora vortrainiert, um die Beziehungen zwischen Wörtern und die allgemeine Sprache zu lernen.\n"
     ]
    }
   ],
   "source": [
    "from langchain_core.messages import HumanMessage\n",
    "\n",
    "chat_history = []\n",
    "\n",
    "question1 = \"Was sind Large Language Models?\"\n",
    "ai_msg_1 = rag_chain.invoke({\"input\": question1, \"chat_history\": chat_history})\n",
    "chat_history.extend([HumanMessage(content=question1), ai_msg_1[\"answer\"]])\n",
    "print(ai_msg_1[\"answer\"])"
   ]
  },
  {
   "cell_type": "code",
   "execution_count": null,
   "id": "6db7786d",
   "metadata": {},
   "outputs": [
    {
     "data": {
      "text/plain": [
       "[HumanMessage(content='Was sind Large Language Models?', additional_kwargs={}, response_metadata={}),\n",
       " 'Large Language Models (LLMs) sind KI-Modelle, die darauf trainiert sind, Sprache zu verstehen und zu generieren. Sie können in drei Hauptkategorien unterteilt werden: autoregressive Modelle wie GPT, reine Encoder-Modelle wie BERT und reine Decoder-Modelle. LLMs werden mit großen Textkorpora vortrainiert, um die Beziehungen zwischen Wörtern und die allgemeine Sprache zu lernen.']"
      ]
     },
     "execution_count": 14,
     "metadata": {},
     "output_type": "execute_result"
    }
   ],
   "source": [
    "# chat history after first question\n",
    "chat_history"
   ]
  },
  {
   "cell_type": "code",
   "execution_count": 15,
   "id": "01dfad67",
   "metadata": {},
   "outputs": [
    {
     "name": "stdout",
     "output_type": "stream",
     "text": [
      "Large Language Models (LLMs) funktionieren durch ein Vortraining auf großen Textkorpora, bei dem sie die allgemeine Sprache und die Beziehungen zwischen Wörtern lernen. Sie nutzen unterschiedliche Architekturen, wie autoregressive Modelle, die das nächste Token basierend auf vorherigen Tokens vorhersagen, oder Encoder-Modelle, die für das Verständnis von Sprache optimiert sind. Nach dem Vortraining können sie für spezifische Aufgaben feingetunt werden, um ihre Leistung zu verbessern.\n"
     ]
    }
   ],
   "source": [
    "question2 = \"Wie funktionieren sie?\"\n",
    "ai_msg_2 = rag_chain.invoke({\"input\": question2, \"chat_history\": chat_history})\n",
    "chat_history.extend([HumanMessage(content=question2), ai_msg_2[\"answer\"]])\n",
    "print(ai_msg_2[\"answer\"])"
   ]
  },
  {
   "cell_type": "code",
   "execution_count": 16,
   "id": "fccbc1ce",
   "metadata": {},
   "outputs": [
    {
     "data": {
      "text/plain": [
       "[HumanMessage(content='Was sind Large Language Models?', additional_kwargs={}, response_metadata={}),\n",
       " 'Large Language Models (LLMs) sind KI-Modelle, die darauf trainiert sind, Sprache zu verstehen und zu generieren. Sie können in drei Hauptkategorien unterteilt werden: autoregressive Modelle wie GPT, reine Encoder-Modelle wie BERT und reine Decoder-Modelle. LLMs werden mit großen Textkorpora vortrainiert, um die Beziehungen zwischen Wörtern und die allgemeine Sprache zu lernen.',\n",
       " HumanMessage(content='Wie funktionieren sie?', additional_kwargs={}, response_metadata={}),\n",
       " 'Large Language Models (LLMs) funktionieren durch ein Vortraining auf großen Textkorpora, bei dem sie die allgemeine Sprache und die Beziehungen zwischen Wörtern lernen. Sie nutzen unterschiedliche Architekturen, wie autoregressive Modelle, die das nächste Token basierend auf vorherigen Tokens vorhersagen, oder Encoder-Modelle, die für das Verständnis von Sprache optimiert sind. Nach dem Vortraining können sie für spezifische Aufgaben feingetunt werden, um ihre Leistung zu verbessern.']"
      ]
     },
     "execution_count": 16,
     "metadata": {},
     "output_type": "execute_result"
    }
   ],
   "source": [
    "# chat history after second question\n",
    "chat_history"
   ]
  },
  {
   "cell_type": "markdown",
   "id": "ec30c7e5",
   "metadata": {},
   "source": [
    "# FULL"
   ]
  },
  {
   "cell_type": "code",
   "execution_count": 39,
   "id": "cbc28235",
   "metadata": {},
   "outputs": [],
   "source": [
    "# Complete History-Aware RAG Chatbot Implementation\n",
    "from langchain_core.messages import HumanMessage, AIMessage\n",
    "\n",
    "class HistoryAwareRAGChatbot:\n",
    "    def __init__(self, question_answer_chain, max_history_length=10):\n",
    "        self.qa_chain = question_answer_chain\n",
    "        self.chat_history = []\n",
    "        self.max_history_length = max_history_length\n",
    "    \n",
    "    def ask(self, question):\n",
    "        \"\"\"Ask a question and get an answer while maintaining chat history\"\"\"\n",
    "        # Invoke the chain with the current question and chat history\n",
    "        result = self.qa_chain.invoke({\n",
    "            \"input\": question,\n",
    "            \"chat_history\": self.chat_history\n",
    "        })\n",
    "        \n",
    "        # Extract the answer content from the AIMessage\n",
    "        if isinstance(result, dict) and 'answer' in result:\n",
    "            if hasattr(result['answer'], 'content'):\n",
    "                answer = result['answer'].content\n",
    "            else:\n",
    "                answer = str(result['answer'])\n",
    "        else:\n",
    "            answer = str(result)\n",
    "        \n",
    "        # Add the current exchange to chat history\n",
    "        self.chat_history.extend([\n",
    "            HumanMessage(content=question),\n",
    "            AIMessage(content=answer)\n",
    "        ])\n",
    "        \n",
    "        # Trim history if it gets too long\n",
    "        if len(self.chat_history) > self.max_history_length * 2:  # *2 because each exchange has 2 messages\n",
    "            self.chat_history = self.chat_history[-self.max_history_length * 2:]\n",
    "        \n",
    "        return {\n",
    "            \"answer\": answer,\n",
    "            \"source_documents\": result.get(\"context\", []) if isinstance(result, dict) else [],\n",
    "            \"chat_history_length\": len(self.chat_history) // 2\n",
    "        }\n",
    "    \n",
    "    def clear_history(self):\n",
    "        \"\"\"Clear the chat history\"\"\"\n",
    "        self.chat_history = []\n",
    "        print(\"Chat history cleared.\")\n",
    "    \n",
    "    def get_history(self):\n",
    "        \"\"\"Get the current chat history in a readable format\"\"\"\n",
    "        history = []\n",
    "        for i in range(0, len(self.chat_history), 2):\n",
    "            if i + 1 < len(self.chat_history):\n",
    "                history.append({\n",
    "                    \"question\": self.chat_history[i].content,\n",
    "                    \"answer\": self.chat_history[i + 1].content\n",
    "                })\n",
    "        return history\n",
    "\n",
    "# Initialize the chatbot\n",
    "chatbot = HistoryAwareRAGChatbot(question_answer_chain)"
   ]
  },
  {
   "cell_type": "markdown",
   "id": "974299a4",
   "metadata": {},
   "source": [
    "## Testing the History-Aware RAG Chatbot\n",
    "\n",
    "Let's test the chatbot with a conversation that demonstrates how it maintains context across multiple interactions:"
   ]
  },
  {
   "cell_type": "code",
   "execution_count": 40,
   "id": "f4679218",
   "metadata": {},
   "outputs": [
    {
     "name": "stdout",
     "output_type": "stream",
     "text": [
      "=== Test 1: Initial Question ===\n",
      "Answer: Large Language Models (LLMs) sind KI-Modelle, die in der Lage sind, Text zu generieren und zu verstehen, indem sie auf große Mengen von Textdaten trainiert werden. Sie lassen sich in drei Hauptkategorien unterteilen: autoregressive Modelle wie GPT, reine Encoder-Modelle wie BERT und hybride Modelle. LLMs sind besonders effektiv bei der Erzeugung kohärenten Freitextes und der Durchführung von Aufgaben im Zusammenhang mit Sprachmodellierung.\n",
      "Sources: 2 documents\n",
      "Chat history length: 1 exchanges\n",
      "\n"
     ]
    }
   ],
   "source": [
    "# Test 1: Initial question about Large Language Models\n",
    "print(\"=== Test 1: Initial Question ===\")\n",
    "response1 = chatbot.ask(\"Was sind Large Language Models?\")\n",
    "print(f\"Answer: {response1['answer']}\")\n",
    "print(f\"Sources: {len(response1['source_documents'])} documents\")\n",
    "print(f\"Chat history length: {response1['chat_history_length']} exchanges\")\n",
    "print()"
   ]
  },
  {
   "cell_type": "code",
   "execution_count": 41,
   "id": "6d52c18f",
   "metadata": {},
   "outputs": [
    {
     "name": "stdout",
     "output_type": "stream",
     "text": [
      "=== Test 2: Follow-up Question (Context Dependent) ===\n",
      "Answer: LLMs funktionieren durch ein Vortraining auf großen Textkorpora, bei dem sie die allgemeine Sprache und die Beziehungen zwischen Wörtern lernen. Während des Vortrainings versuchen sie, das nächste Token in einem Satz basierend auf den vorherigen Tokens vorherzusagen. Nach dem Vortraining können sie für spezifische Aufgaben feingetunt werden, um ihre Leistung zu optimieren.\n",
      "Chat history length: 2 exchanges\n",
      "\n"
     ]
    }
   ],
   "source": [
    "# Test 2: Follow-up question that references previous context\n",
    "print(\"=== Test 2: Follow-up Question (Context Dependent) ===\")\n",
    "response2 = chatbot.ask(\"Wie funktionieren sie?\")  # \"How do they work?\" - referring to LLMs from previous question\n",
    "print(f\"Answer: {response2['answer']}\")\n",
    "print(f\"Chat history length: {response2['chat_history_length']} exchanges\")\n",
    "print()"
   ]
  },
  {
   "cell_type": "code",
   "execution_count": 42,
   "id": "dc174480",
   "metadata": {},
   "outputs": [
    {
     "name": "stdout",
     "output_type": "stream",
     "text": [
      "=== Test 3: Another Follow-up Question ===\n",
      "Answer: LLMs finden Anwendung in verschiedenen Bereichen, darunter Textgenerierung, maschinelles Übersetzen, Frage-Antwort-Systeme, Chatbots und Inhaltszusammenfassungen. Sie werden auch in der Sentiment-Analyse, der automatischen Textklassifizierung und der Erstellung von personalisierten Empfehlungen eingesetzt. Darüber hinaus können sie in kreativen Prozessen wie dem Schreiben von Geschichten oder der Erstellung von Marketinginhalten verwendet werden.\n",
      "Chat history length: 3 exchanges\n",
      "\n",
      "=== Test 4: View Chat History ===\n",
      "Exchange 1:\n",
      "  Q: Was sind Large Language Models?\n",
      "  A: Large Language Models (LLMs) sind KI-Modelle, die in der Lage sind, Text zu generieren und zu verste...\n",
      "\n",
      "Exchange 2:\n",
      "  Q: Wie funktionieren sie?\n",
      "  A: LLMs funktionieren durch ein Vortraining auf großen Textkorpora, bei dem sie die allgemeine Sprache ...\n",
      "\n",
      "Exchange 3:\n",
      "  Q: Welche Anwendungen gibt es dafür?\n",
      "  A: LLMs finden Anwendung in verschiedenen Bereichen, darunter Textgenerierung, maschinelles Übersetzen,...\n",
      "\n"
     ]
    }
   ],
   "source": [
    "# Test 3: Another follow-up question\n",
    "print(\"=== Test 3: Another Follow-up Question ===\")\n",
    "response3 = chatbot.ask(\"Welche Anwendungen gibt es dafür?\")  # \"What applications are there for it?\"\n",
    "print(f\"Answer: {response3['answer']}\")\n",
    "print(f\"Chat history length: {response3['chat_history_length']} exchanges\")\n",
    "print()\n",
    "\n",
    "# Test 4: View chat history\n",
    "print(\"=== Test 4: View Chat History ===\")\n",
    "history = chatbot.get_history()\n",
    "for i, exchange in enumerate(history, 1):\n",
    "    print(f\"Exchange {i}:\")\n",
    "    print(f\"  Q: {exchange['question']}\")\n",
    "    print(f\"  A: {exchange['answer'][:100]}...\")\n",
    "    print()"
   ]
  },
  {
   "cell_type": "markdown",
   "id": "2d45bab3",
   "metadata": {},
   "source": [
    "## Interactive Chatbot Interface\n",
    "\n",
    "You can use the following cell to have an interactive conversation with the RAG chatbot:"
   ]
  },
  {
   "cell_type": "code",
   "execution_count": null,
   "id": "3df1d04e",
   "metadata": {},
   "outputs": [],
   "source": [
    "def interactive_chat():\n",
    "    \"\"\"Interactive chat function for the notebook\"\"\"\n",
    "    print(\"=== Interactive RAG Chatbot ===\")\n",
    "    print(\"Ask questions about the documents in your vector store.\")\n",
    "    print(\"Type 'quit' to exit, 'clear' to clear history, 'history' to view chat history.\")\n",
    "    print()\n",
    "    \n",
    "    while True:\n",
    "        try:\n",
    "            question = input(\"You: \").strip()\n",
    "            \n",
    "            if question.lower() == 'quit':\n",
    "                print(\"Goodbye!\")\n",
    "                break\n",
    "            elif question.lower() == 'clear':\n",
    "                chatbot.clear_history()\n",
    "                continue\n",
    "            elif question.lower() == 'history':\n",
    "                history = chatbot.get_history()\n",
    "                if not history:\n",
    "                    print(\"No chat history yet.\")\n",
    "                else:\n",
    "                    print(\"\\n=== Chat History ===\")\n",
    "                    for i, exchange in enumerate(history, 1):\n",
    "                        print(f\"{i}. Q: {exchange['question']}\")\n",
    "                        print(f\"   A: {exchange['answer']}\")\n",
    "                        print()\n",
    "                continue\n",
    "            elif not question:\n",
    "                continue\n",
    "            \n",
    "            # Get response from chatbot\n",
    "            response = chatbot.ask(question)\n",
    "            print(f\"Bot: {response['answer']}\")\n",
    "            print(f\"[Sources: {len(response['source_documents'])} documents, History: {response['chat_history_length']} exchanges]\")\n",
    "            print()\n",
    "            \n",
    "        except KeyboardInterrupt:\n",
    "            print(\"\\nGoodbye!\")\n",
    "            break\n",
    "        except Exception as e:\n",
    "            print(f\"Error: {e}\")\n",
    "            continue\n",
    "\n",
    "# Uncomment the next line to start interactive chat\n",
    "# interactive_chat()"
   ]
  },
  {
   "cell_type": "markdown",
   "id": "19c56e7b",
   "metadata": {},
   "source": [
    "## Advanced Features and Utilities\n",
    "\n",
    "Additional functionality for the RAG chatbot:"
   ]
  },
  {
   "cell_type": "code",
   "execution_count": 43,
   "id": "7921f57b",
   "metadata": {},
   "outputs": [],
   "source": [
    "# Utility functions for advanced chatbot features\n",
    "\n",
    "def save_conversation(chatbot, filename=\"conversation.txt\"):\n",
    "    \"\"\"Save the current conversation to a file\"\"\"\n",
    "    history = chatbot.get_history()\n",
    "    with open(filename, 'w', encoding='utf-8') as f:\n",
    "        f.write(\"=== RAG Chatbot Conversation ===\\n\\n\")\n",
    "        for i, exchange in enumerate(history, 1):\n",
    "            f.write(f\"Exchange {i}:\\n\")\n",
    "            f.write(f\"User: {exchange['question']}\\n\")\n",
    "            f.write(f\"Bot: {exchange['answer']}\\n\\n\")\n",
    "    print(f\"Conversation saved to {filename}\")\n",
    "\n",
    "def analyze_conversation(chatbot):\n",
    "    \"\"\"Analyze the current conversation for insights\"\"\"\n",
    "    history = chatbot.get_history()\n",
    "    if not history:\n",
    "        print(\"No conversation history to analyze.\")\n",
    "        return\n",
    "    \n",
    "    total_exchanges = len(history)\n",
    "    total_questions = sum(len(exchange['question'].split()) for exchange in history)\n",
    "    total_answers = sum(len(exchange['answer'].split()) for exchange in history)\n",
    "    \n",
    "    print(f\"=== Conversation Analysis ===\")\n",
    "    print(f\"Total exchanges: {total_exchanges}\")\n",
    "    print(f\"Average question length: {total_questions / total_exchanges:.1f} words\")\n",
    "    print(f\"Average answer length: {total_answers / total_exchanges:.1f} words\")\n",
    "    print(f\"Topics discussed: {', '.join(set(word.lower() for exchange in history for word in exchange['question'].split() if len(word) > 4))}\")\n",
    "\n",
    "def create_summary(chatbot):\n",
    "    \"\"\"Create a summary of the conversation\"\"\"\n",
    "    history = chatbot.get_history()\n",
    "    if not history:\n",
    "        return \"No conversation to summarize.\"\n",
    "    \n",
    "    # Use the LLM to create a summary\n",
    "    conversation_text = \"\\n\".join([f\"Q: {ex['question']}\\nA: {ex['answer']}\" for ex in history])\n",
    "    \n",
    "    summary_prompt = f\"\"\"Please provide a brief summary of the following conversation:\n",
    "\n",
    "{conversation_text}\n",
    "\n",
    "Summary:\"\"\"\n",
    "    \n",
    "    summary = llm.invoke(summary_prompt)\n",
    "    return summary.content\n",
    "\n",
    "# Example usage:\n",
    "# save_conversation(chatbot, \"my_rag_conversation.txt\")\n",
    "# analyze_conversation(chatbot)\n",
    "# print(create_summary(chatbot))"
   ]
  },
  {
   "cell_type": "code",
   "execution_count": 44,
   "id": "28587782",
   "metadata": {},
   "outputs": [
    {
     "name": "stdout",
     "output_type": "stream",
     "text": [
      "=== Testing Utility Functions ===\n",
      "=== Conversation Analysis ===\n",
      "Total exchanges: 3\n",
      "Average question length: 4.3 words\n",
      "Average answer length: 54.3 words\n",
      "Topics discussed: welche, anwendungen, language, models?, funktionieren, dafür?, large\n",
      "\n",
      "==================================================\n",
      "=== Conversation Summary ===\n",
      "In der Konversation wird erklärt, was Large Language Models (LLMs) sind, wie sie funktionieren und welche Anwendungen sie haben. LLMs sind KI-Modelle, die Text generieren und verstehen können, indem sie auf großen Textmengen trainiert werden. Sie werden in drei Hauptkategorien unterteilt: autoregressive Modelle (wie GPT), reine Encoder-Modelle (wie BERT) und hybride Modelle. Ihr Funktionsprinzip basiert auf einem Vortraining, bei dem sie die Sprache und Wortbeziehungen lernen, gefolgt von einer Feinabstimmung für spezifische Aufgaben. Anwendungen von LLMs umfassen Textgenerierung, maschinelles Übersetzen, Chatbots, Inhaltszusammenfassungen, Sentiment-Analyse und kreative Prozesse wie das Schreiben von Geschichten.\n",
      "\n",
      "==================================================\n",
      "Conversation can be saved using: save_conversation(chatbot, 'filename.txt')\n"
     ]
    }
   ],
   "source": [
    "# Test the utility functions\n",
    "print(\"=== Testing Utility Functions ===\")\n",
    "\n",
    "# Analyze the conversation\n",
    "analyze_conversation(chatbot)\n",
    "\n",
    "print(\"\\n\" + \"=\"*50)\n",
    "\n",
    "# Create a summary of the conversation\n",
    "print(\"=== Conversation Summary ===\")\n",
    "summary = create_summary(chatbot)\n",
    "print(summary)\n",
    "\n",
    "print(\"\\n\" + \"=\"*50)\n",
    "\n",
    "# Save the conversation (uncomment to actually save)\n",
    "# save_conversation(chatbot, \"test_conversation.txt\")\n",
    "print(\"Conversation can be saved using: save_conversation(chatbot, 'filename.txt')\")"
   ]
  },
  {
   "cell_type": "markdown",
   "id": "3cc482c3",
   "metadata": {},
   "source": [
    "## Summary\n",
    "\n",
    "You have successfully created a **History-Aware RAG Chatbot** with the following features:\n",
    "\n",
    "### ✅ Core Functionality\n",
    "- **Retrieval Augmented Generation**: Queries your persistent ChromaDB vector store\n",
    "- **History Awareness**: Maintains conversation context across multiple exchanges\n",
    "- **Source Attribution**: Shows which documents were used to generate answers\n",
    "\n",
    "### ✅ Key Components\n",
    "1. **History-Aware Retriever**: Reformulates questions based on chat history\n",
    "2. **RAG Chain**: Combines retrieved context with conversation history\n",
    "3. **Chatbot Class**: Manages conversation state and provides a clean interface\n",
    "\n",
    "### ✅ Advanced Features\n",
    "- **Interactive Chat**: Use `interactive_chat()` for a terminal-based interface\n",
    "- **Conversation Analysis**: Analyze chat patterns and topics\n",
    "- **Conversation Export**: Save conversations to files\n",
    "- **Automatic Summarization**: Generate summaries of conversations\n",
    "\n",
    "### 🚀 Usage Examples\n",
    "```python\n",
    "# Ask a question\n",
    "response = chatbot.ask(\"What are transformers in NLP?\")\n",
    "print(response['answer'])\n",
    "\n",
    "# Follow-up questions maintain context\n",
    "response = chatbot.ask(\"How do they work?\")\n",
    "\n",
    "# View conversation history\n",
    "history = chatbot.get_history()\n",
    "\n",
    "# Clear history when needed\n",
    "chatbot.clear_history()\n",
    "\n",
    "# Start interactive chat\n",
    "interactive_chat()\n",
    "```\n",
    "\n",
    "### 🎯 Benefits\n",
    "- **Context Preservation**: Follow-up questions understand previous context\n",
    "- **Source Transparency**: Know which documents informed each answer\n",
    "- **Extensible**: Easy to add new features and customize behavior\n",
    "- **Production Ready**: Includes error handling and conversation management\n",
    "\n",
    "The chatbot successfully demonstrates how to build a sophisticated RAG system that maintains conversational context while retrieving relevant information from your document collection!"
   ]
  }
 ],
 "metadata": {
  "kernelspec": {
   "display_name": "rag",
   "language": "python",
   "name": "python3"
  },
  "language_info": {
   "codemirror_mode": {
    "name": "ipython",
    "version": 3
   },
   "file_extension": ".py",
   "mimetype": "text/x-python",
   "name": "python",
   "nbconvert_exporter": "python",
   "pygments_lexer": "ipython3",
   "version": "3.13.2"
  }
 },
 "nbformat": 4,
 "nbformat_minor": 5
}
